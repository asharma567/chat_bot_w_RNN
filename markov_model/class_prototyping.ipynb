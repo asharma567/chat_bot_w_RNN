{
 "cells": [
  {
   "cell_type": "code",
   "execution_count": 2,
   "metadata": {
    "collapsed": false
   },
   "outputs": [
    {
     "data": {
      "text/plain": [
       "'\\nhow are you suppose to evaluate the qaulity of the matches\\n'"
      ]
     },
     "execution_count": 2,
     "metadata": {},
     "output_type": "execute_result"
    }
   ],
   "source": [
    "'''\n",
    "- make grid search\n",
    "- how are you suppose to evaluate the qaulity of the matches\n",
    "- add dedupe by datamade \n",
    "- think about graph based methods\n",
    "- lsi\n",
    "'''"
   ]
  },
  {
   "cell_type": "code",
   "execution_count": 3,
   "metadata": {
    "collapsed": true
   },
   "outputs": [],
   "source": [
    "import warnings\n",
    "warnings.filterwarnings('ignore')"
   ]
  },
  {
   "cell_type": "code",
   "execution_count": 75,
   "metadata": {
    "collapsed": false
   },
   "outputs": [
    {
     "name": "stdout",
     "output_type": "stream",
     "text": [
      "NearestNeighbors(algorithm='brute', leaf_size=30, metric='minkowski',\n",
      "         metric_params=None, n_jobs=-1, n_neighbors=5, p=2, radius=1.0)\n",
      "(1,) [array([368])]\n"
     ]
    },
    {
     "data": {
      "text/plain": [
       "['i see that you are a gold members.']"
      ]
     },
     "execution_count": 75,
     "metadata": {},
     "output_type": "execute_result"
    }
   ],
   "source": [
    "from sklearn.feature_extraction.text import CountVectorizer, TfidfVectorizer\n",
    "from sklearn.neighbors import NearestNeighbors\n",
    "\n",
    "# nn class\n",
    "class Deduper_NN(object):\n",
    "    '''\n",
    "    methods\n",
    "    ------\n",
    "    train\n",
    "        - model type\n",
    "    predict\n",
    "    preprocess\n",
    "        - various stuff\n",
    "    '''\n",
    "    \n",
    "    def read_in_the_file(self, file_name):\n",
    "        #read in subject file\n",
    "        with open(file_name) as f:\n",
    "             self.orig_file = [line.strip() for line in f]\n",
    "    \n",
    "    def build_vectorizer(self, corpus, model_type='bag of words', ngrams=1, tokenizer='char'):\n",
    "        '''\n",
    "        *add word2vec\n",
    "        '''\n",
    "        #think of params\n",
    "        params = {\n",
    "            'analyzer': tokenizer,\n",
    "            'ngram_range' : (1, ngrams)\n",
    "        }\n",
    "\n",
    "        if model_type == 'bag of words':\n",
    "            vectorizer = CountVectorizer(**params)\n",
    "        elif model_type ==  'tfidf':\n",
    "            vectorizer = TfidfVectorizer(**params)\n",
    "\n",
    "        self.vector_space = vectorizer.fit_transform(corpus) \n",
    "        self.vectorizer = vectorizer \n",
    "    \n",
    "    def find_all_duplicates(self):\n",
    "        #find all duplicates\n",
    "        all_dups_dict = {idx : self.predict(line) for idx, line in enumerate(self.orig_file)}\n",
    "        return all_dups_dict\n",
    "    \n",
    "    def train(self, model_type='brute'):\n",
    "        \n",
    "        self.build_vectorizer(self.orig_file)\n",
    "\n",
    "        if model_type == 'brute':\n",
    "            self.model = NearestNeighbors(n_jobs=-1, algorithm='brute')\n",
    "        elif model_type == 'lsh':\n",
    "            self.model = LSHForest()\n",
    "        elif model_type == 'annoy':\n",
    "            self.model = Annoy()\n",
    "        elif model_type == 'annoy':\n",
    "            self.model = Annoy()\n",
    "\n",
    "        self.model.fit(self.vector_space)\n",
    "        print self.model\n",
    "\n",
    "    def predict(self, new_data_pt, radius_threshold=.25):\n",
    "        '''\n",
    "        not sure how to find the optimal threshold here\n",
    "        '''\n",
    "\n",
    "        #careful to note that it takes a single string and converts to a list object of strings\n",
    "        pt = self.vectorizer.transform([new_data_pt])\n",
    "        \n",
    "        #how to find optimal radius?\n",
    "        distance_from_origin, indices = self.model.radius_neighbors(pt, radius=radius_threshold)\n",
    "        \n",
    "        #unpacking\n",
    "        distance_from_origin = distance_from_origin[0]\n",
    "        indices = indices[0]\n",
    "\n",
    "        grabbing_the_lines_from_file = [self.orig_file[index] for index in indices]\n",
    "\n",
    "        return grabbing_the_lines_from_file\n",
    "    \n",
    "    def grid_search(self):\n",
    "        pass\n",
    "    \n",
    "deduper = Deduper_NN()\n",
    "deduper.read_in_the_file('target.txt')\n",
    "deduper.train()\n",
    "deduper.predict(deduper.orig_file[368])\n"
   ]
  }
 ],
 "metadata": {
  "kernelspec": {
   "display_name": "Python 2",
   "language": "python",
   "name": "python2"
  },
  "language_info": {
   "codemirror_mode": {
    "name": "ipython",
    "version": 2
   },
   "file_extension": ".py",
   "mimetype": "text/x-python",
   "name": "python",
   "nbconvert_exporter": "python",
   "pygments_lexer": "ipython2",
   "version": "2.7.11"
  }
 },
 "nbformat": 4,
 "nbformat_minor": 0
}
